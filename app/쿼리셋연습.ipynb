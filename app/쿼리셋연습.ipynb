{
 "cells": [
  {
   "cell_type": "code",
   "execution_count": 8,
   "metadata": {},
   "outputs": [],
   "source": [
    "p1 = Post.objects.filter(postcomment__content__contains='허범영')"
   ]
  },
  {
   "cell_type": "code",
   "execution_count": 21,
   "metadata": {},
   "outputs": [
    {
     "name": "stdout",
     "output_type": "stream",
     "text": [
      "#djanGo\n",
      " \tcomment : asdasdasd\n",
      " \tcomment : 허범영\n",
      "#DjAngo\n",
      " \tcomment : 허범영\n",
      "#test111\n",
      " \tcomment : 허범영\n",
      "#sdasas 안녕하세요#pqows\n",
      " \tcomment : 가나다허범영마바사\n"
     ]
    }
   ],
   "source": [
    "for post in p1:\n",
    "    print(post.content)\n",
    "    for comment in post.postcomment_set.all():\n",
    "        print(f' \\tcomment : {comment.content}')  "
   ]
  },
  {
   "cell_type": "code",
   "execution_count": 22,
   "metadata": {},
   "outputs": [],
   "source": [
    "p2 = Post.objects.filter()"
   ]
  },
  {
   "cell_type": "code",
   "execution_count": 23,
   "metadata": {},
   "outputs": [],
   "source": [
    "q3 = Tag.objects.filter(posts__author__id=1)"
   ]
  },
  {
   "cell_type": "code",
   "execution_count": 24,
   "metadata": {},
   "outputs": [
    {
     "data": {
      "text/plain": [
       "<QuerySet [<Tag: test111>, <Tag: test2222>, <Tag: aaa>, <Tag: bbb>, <Tag: sdasas>, <Tag: pqows>, <Tag: test111>, <Tag: DjAngo>, <Tag: djanGo>]>"
      ]
     },
     "execution_count": 24,
     "metadata": {},
     "output_type": "execute_result"
    }
   ],
   "source": [
    "q3"
   ]
  },
  {
   "cell_type": "code",
   "execution_count": 32,
   "metadata": {},
   "outputs": [],
   "source": [
    "q4 = Post.objects.filter(like_users__isnull=False)"
   ]
  },
  {
   "cell_type": "code",
   "execution_count": 33,
   "metadata": {},
   "outputs": [
    {
     "data": {
      "text/plain": [
       "<QuerySet [<Post: hby>, <Post: hby>]>"
      ]
     },
     "execution_count": 33,
     "metadata": {},
     "output_type": "execute_result"
    }
   ],
   "source": [
    "q4"
   ]
  },
  {
   "cell_type": "code",
   "execution_count": null,
   "metadata": {},
   "outputs": [],
   "source": []
  }
 ],
 "metadata": {
  "kernelspec": {
   "display_name": "Django Shell-Plus",
   "language": "python",
   "name": "django_extensions"
  },
  "language_info": {
   "codemirror_mode": {
    "name": "ipython",
    "version": 3
   },
   "file_extension": ".py",
   "mimetype": "text/x-python",
   "name": "python",
   "nbconvert_exporter": "python",
   "pygments_lexer": "ipython3",
   "version": "3.7.5"
  }
 },
 "nbformat": 4,
 "nbformat_minor": 2
}
